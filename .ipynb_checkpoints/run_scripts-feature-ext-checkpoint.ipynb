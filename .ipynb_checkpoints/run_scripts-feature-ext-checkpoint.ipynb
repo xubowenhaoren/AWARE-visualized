{
 "cells": [
  {
   "cell_type": "markdown",
   "metadata": {},
   "source": [
    "## Import necessary packages"
   ]
  },
  {
   "cell_type": "code",
   "execution_count": 1,
   "metadata": {},
   "outputs": [],
   "source": [
    "import os\n",
    "import subprocess\n",
    "from subprocess import call"
   ]
  },
  {
   "cell_type": "markdown",
   "metadata": {},
   "source": [
    "## Set the following variables:\n",
    "\n",
    "* jobs_path - path where analysis-scripts-master/sensors/cmulibadaptation/jobs folder is (this contains all the job files for cleaning each feature)\n",
    "\n",
    "* args1 - <path to cleanup-scripts>:<path to analysis-scripts-master/sensors/cmulibadaptation/library/utils>:<path-to-analysis-scripts-master/sensors/cmulibadaptation/utils>:<path-to-/utilities-master>\n",
    "\n",
    "\n",
    "* args3 - number of processes to concurrently spawn (must be a string)\n",
    "\n",
    "* args4 - path to store dump_execution_err.log (in cleanup-scripts/cleanup)\n",
    "\n",
    "### NOTE: make sure this ipynb is stored in the same directory as master.sh (in utilities/jobutils)"
   ]
  },
  {
   "cell_type": "code",
   "execution_count": 2,
   "metadata": {},
   "outputs": [],
   "source": [
    "jobs_path = '/Users/bowenxu2/Documents/uwexp-analysis/analysis-scripts-master/sensors/cmulibadaptation/jobs/'\n",
    "\n",
    "args1 = '/Users/bowenxu2/Documents/uwexp-analysis/cleanup-scripts-master:/Users/bowenxu2/Documents/uwexp-analysis/analysis-scripts-master/sensors/cmulibadaptation/library/utils:/Users/bowenxu2/Documents/uwexp-analysis/analysis-scripts-master/sensors/cmulibadaptation/utils://Users/bowenxu2/Documents/uwexp-analysis/utilities-master'\n",
    "args3 = '10'\n",
    "args4 = '/Users/bowenxu2/Documents/uwexp-analysis/analysis-scripts-master/sensors/cmulibadaptation/jobs/{}/dump_execution_err.log'"
   ]
  },
  {
   "cell_type": "code",
   "execution_count": 3,
   "metadata": {},
   "outputs": [],
   "source": [
    "to_skip = [\"applications_crashes\", \"applications_notifications\", \"battery_discharges\", \"battery\", \".DS_Store\", \"messages\"]"
   ]
  },
  {
   "cell_type": "code",
   "execution_count": 4,
   "metadata": {},
   "outputs": [
    {
     "ename": "NameError",
     "evalue": "name 'cleanup_jobs_path' is not defined",
     "output_type": "error",
     "traceback": [
      "\u001b[0;31m---------------------------------------------------------------------------\u001b[0m",
      "\u001b[0;31mNameError\u001b[0m                                 Traceback (most recent call last)",
      "\u001b[0;32m<ipython-input-4-20451e6a7cc6>\u001b[0m in \u001b[0;36m<module>\u001b[0;34m\u001b[0m\n\u001b[1;32m      3\u001b[0m         \u001b[0;32mcontinue\u001b[0m\u001b[0;34m\u001b[0m\u001b[0;34m\u001b[0m\u001b[0m\n\u001b[1;32m      4\u001b[0m \u001b[0;34m\u001b[0m\u001b[0m\n\u001b[0;32m----> 5\u001b[0;31m     \u001b[0margs2\u001b[0m \u001b[0;34m=\u001b[0m \u001b[0mcleanup_jobs_path\u001b[0m \u001b[0;34m+\u001b[0m \u001b[0mfolder\u001b[0m\u001b[0;34m\u001b[0m\u001b[0;34m\u001b[0m\u001b[0m\n\u001b[0m\u001b[1;32m      6\u001b[0m \u001b[0;34m\u001b[0m\u001b[0m\n\u001b[1;32m      7\u001b[0m     \u001b[0;31m# print(args2)\u001b[0m\u001b[0;34m\u001b[0m\u001b[0;34m\u001b[0m\u001b[0;34m\u001b[0m\u001b[0m\n",
      "\u001b[0;31mNameError\u001b[0m: name 'cleanup_jobs_path' is not defined"
     ]
    }
   ],
   "source": [
    "for folder in os.listdir(jobs_path):\n",
    "    if folder in to_skip:\n",
    "        continue\n",
    "\n",
    "    args2 = cleanup_jobs_path + folder\n",
    "    \n",
    "    # print(args2)\n",
    "    print('sudo ./master.sh %s %s %s %s'%(args1, args2, args3, args4.format(folder)))\n",
    "    \n",
    "    # rc = subprocess.check_call('./master.sh %s %s %s %s'%(args1, args2, args3, args4.format(folder)),shell=True)\n",
    "    "
   ]
  },
  {
   "cell_type": "code",
   "execution_count": null,
   "metadata": {},
   "outputs": [],
   "source": []
  }
 ],
 "metadata": {
  "kernelspec": {
   "display_name": "Python 3",
   "language": "python",
   "name": "python3"
  },
  "language_info": {
   "codemirror_mode": {
    "name": "ipython",
    "version": 3
   },
   "file_extension": ".py",
   "mimetype": "text/x-python",
   "name": "python",
   "nbconvert_exporter": "python",
   "pygments_lexer": "ipython3",
   "version": "3.7.3"
  }
 },
 "nbformat": 4,
 "nbformat_minor": 4
}
