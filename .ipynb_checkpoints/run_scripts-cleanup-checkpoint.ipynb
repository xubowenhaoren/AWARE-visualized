{
 "cells": [
  {
   "cell_type": "markdown",
   "metadata": {},
   "source": [
    "## Import necessary packages"
   ]
  },
  {
   "cell_type": "code",
   "execution_count": 1,
   "metadata": {},
   "outputs": [],
   "source": [
    "import os\n",
    "import subprocess\n",
    "from subprocess import call"
   ]
  },
  {
   "cell_type": "markdown",
   "metadata": {},
   "source": [
    "## Set the following variables:\n",
    "\n",
    "* cleanup_jobs_path - path where cleanup-scripts/cleanup/jobs folder is (this contains all the job files for cleaning each feature)\n",
    "\n",
    "* args1 - path to cleanup-scripts\n",
    "\n",
    "* args3 - number of processes to concurrently spawn (must be a string)\n",
    "\n",
    "* args4 - path to store dump_execution_err.log (in cleanup-scripts/cleanup)\n",
    "\n",
    "### NOTE: make sure this ipynb is stored in the same directory as master.sh (in utilities/jobutils)"
   ]
  },
  {
   "cell_type": "code",
   "execution_count": 2,
   "metadata": {},
   "outputs": [],
   "source": [
    "cleanup_jobs_path = '/Users/bowenxu2/Documents/uwexp-analysis/cleanup-scripts-master/cleanup/jobs/'\n",
    "\n",
    "args1 = '/Users/bowenxu2/Documents/uwexp-analysis/cleanup-scripts-master'\n",
    "args3 = '10'\n",
    "args4 = '/Users/bowenxu2/Documents/uwexp-analysis/cleanup-scripts-master/cleanup/jobs/{}/dump_execution_err.log'"
   ]
  },
  {
   "cell_type": "code",
   "execution_count": 3,
   "metadata": {},
   "outputs": [],
   "source": [
    "to_skip = [\"applications_crashes\", \"applications_notifications\", \"battery_discharges\", \"battery\", '.DS_Store']"
   ]
  },
  {
   "cell_type": "code",
   "execution_count": 6,
   "metadata": {},
   "outputs": [
    {
     "name": "stdout",
     "output_type": "stream",
     "text": [
      "sudo /Users/bowenxu2/Documents/uwexp-analysis/cleanup-scripts-master/cleanup/jobs/calls\n",
      "sudo /Users/bowenxu2/Documents/uwexp-analysis/cleanup-scripts-master/cleanup/jobs/wifi\n",
      "sudo /Users/bowenxu2/Documents/uwexp-analysis/cleanup-scripts-master/cleanup/jobs/network_traffic\n",
      "sudo /Users/bowenxu2/Documents/uwexp-analysis/cleanup-scripts-master/cleanup/jobs/applications_history\n",
      "sudo /Users/bowenxu2/Documents/uwexp-analysis/cleanup-scripts-master/cleanup/jobs/messages\n",
      "sudo /Users/bowenxu2/Documents/uwexp-analysis/cleanup-scripts-master/cleanup/jobs/battery_charges\n",
      "sudo /Users/bowenxu2/Documents/uwexp-analysis/cleanup-scripts-master/cleanup/jobs/network\n",
      "sudo /Users/bowenxu2/Documents/uwexp-analysis/cleanup-scripts-master/cleanup/jobs/locations_visit\n",
      "sudo /Users/bowenxu2/Documents/uwexp-analysis/cleanup-scripts-master/cleanup/jobs/fitbit_data\n",
      "sudo /Users/bowenxu2/Documents/uwexp-analysis/cleanup-scripts-master/cleanup/jobs/plugin_contacts\n",
      "sudo /Users/bowenxu2/Documents/uwexp-analysis/cleanup-scripts-master/cleanup/jobs/locations\n",
      "sudo /Users/bowenxu2/Documents/uwexp-analysis/cleanup-scripts-master/cleanup/jobs/screen\n",
      "sudo /Users/bowenxu2/Documents/uwexp-analysis/cleanup-scripts-master/cleanup/jobs/bluetooth\n",
      "sudo /Users/bowenxu2/Documents/uwexp-analysis/cleanup-scripts-master/cleanup/jobs/plugin_google_activity_recognition\n",
      "sudo /Users/bowenxu2/Documents/uwexp-analysis/cleanup-scripts-master/cleanup/jobs/plugin_studentlife_audio_android\n",
      "sudo /Users/bowenxu2/Documents/uwexp-analysis/cleanup-scripts-master/cleanup/jobs/plugin_ios_activity_recognition\n",
      "sudo /Users/bowenxu2/Documents/uwexp-analysis/cleanup-scripts-master/cleanup/jobs/push_notification_device_tokens\n",
      "sudo /Users/bowenxu2/Documents/uwexp-analysis/cleanup-scripts-master/cleanup/jobs/applications_foreground\n",
      "sudo /Users/bowenxu2/Documents/uwexp-analysis/cleanup-scripts-master/cleanup/jobs/barometer\n"
     ]
    }
   ],
   "source": [
    "for folder in os.listdir(cleanup_jobs_path):\n",
    "    if folder in to_skip:\n",
    "        continue\n",
    "\n",
    "    args2 = cleanup_jobs_path + folder\n",
    "    \n",
    "    print(\"sudo\", args2)\n",
    "    print(    rc = subprocess.check_call('sudo ./master.sh %s %s %s %s'%(args1, args2, args3, args4.format(folder)),shell=True))\n",
    "    \n",
    "    rc = subprocess.check_call('sudo ./master.sh %s %s %s %s'%(args1, args2, args3, args4.format(folder)),shell=True)\n",
    "    "
   ]
  },
  {
   "cell_type": "code",
   "execution_count": null,
   "metadata": {},
   "outputs": [],
   "source": []
  }
 ],
 "metadata": {
  "kernelspec": {
   "display_name": "Python 3",
   "language": "python",
   "name": "python3"
  },
  "language_info": {
   "codemirror_mode": {
    "name": "ipython",
    "version": 3
   },
   "file_extension": ".py",
   "mimetype": "text/x-python",
   "name": "python",
   "nbconvert_exporter": "python",
   "pygments_lexer": "ipython3",
   "version": "3.7.3"
  }
 },
 "nbformat": 4,
 "nbformat_minor": 4
}
